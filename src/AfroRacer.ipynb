{
 "cells": [
  {
   "cell_type": "code",
   "execution_count": 4,
   "id": "e2c6ccd3",
   "metadata": {},
   "outputs": [
    {
     "name": "stdout",
     "output_type": "stream",
     "text": [
      "Defaulting to user installation because normal site-packages is not writeable\n",
      "Requirement already satisfied: opencv-python in /Users/kevinirungu/Library/Python/3.9/lib/python/site-packages (4.11.0.86)\n",
      "Requirement already satisfied: numpy>=1.21.0 in /Users/kevinirungu/Library/Python/3.9/lib/python/site-packages (from opencv-python) (2.0.2)\n",
      "\u001b[33mWARNING: You are using pip version 21.2.4; however, version 25.1.1 is available.\n",
      "You should consider upgrading via the '/Library/Developer/CommandLineTools/usr/bin/python3 -m pip install --upgrade pip' command.\u001b[0m\n",
      "Note: you may need to restart the kernel to use updated packages.\n",
      "Defaulting to user installation because normal site-packages is not writeable\n",
      "Requirement already satisfied: torch in /Users/kevinirungu/Library/Python/3.9/lib/python/site-packages (2.7.0)\n",
      "Requirement already satisfied: sympy>=1.13.3 in /Users/kevinirungu/Library/Python/3.9/lib/python/site-packages (from torch) (1.14.0)\n",
      "Requirement already satisfied: typing-extensions>=4.10.0 in /Users/kevinirungu/Library/Python/3.9/lib/python/site-packages (from torch) (4.12.2)\n",
      "Requirement already satisfied: fsspec in /Users/kevinirungu/Library/Python/3.9/lib/python/site-packages (from torch) (2025.3.2)\n",
      "Requirement already satisfied: networkx in /Users/kevinirungu/Library/Python/3.9/lib/python/site-packages (from torch) (3.2.1)\n",
      "Requirement already satisfied: filelock in /Users/kevinirungu/Library/Python/3.9/lib/python/site-packages (from torch) (3.18.0)\n",
      "Requirement already satisfied: jinja2 in /Users/kevinirungu/Library/Python/3.9/lib/python/site-packages (from torch) (3.1.6)\n",
      "Requirement already satisfied: mpmath<1.4,>=1.1.0 in /Users/kevinirungu/Library/Python/3.9/lib/python/site-packages (from sympy>=1.13.3->torch) (1.3.0)\n",
      "Requirement already satisfied: MarkupSafe>=2.0 in /Users/kevinirungu/Library/Python/3.9/lib/python/site-packages (from jinja2->torch) (3.0.2)\n",
      "\u001b[33mWARNING: You are using pip version 21.2.4; however, version 25.1.1 is available.\n",
      "You should consider upgrading via the '/Library/Developer/CommandLineTools/usr/bin/python3 -m pip install --upgrade pip' command.\u001b[0m\n",
      "Note: you may need to restart the kernel to use updated packages.\n",
      "Defaulting to user installation because normal site-packages is not writeable\n",
      "Collecting torchvision\n",
      "  Downloading torchvision-0.22.0-cp39-cp39-macosx_11_0_arm64.whl (1.9 MB)\n",
      "\u001b[K     |████████████████████████████████| 1.9 MB 489 kB/s eta 0:00:01\n",
      "\u001b[?25hRequirement already satisfied: torch==2.7.0 in /Users/kevinirungu/Library/Python/3.9/lib/python/site-packages (from torchvision) (2.7.0)\n",
      "Requirement already satisfied: pillow!=8.3.*,>=5.3.0 in /Users/kevinirungu/Library/Python/3.9/lib/python/site-packages (from torchvision) (11.0.0)\n",
      "Requirement already satisfied: numpy in /Users/kevinirungu/Library/Python/3.9/lib/python/site-packages (from torchvision) (2.0.2)\n",
      "Requirement already satisfied: filelock in /Users/kevinirungu/Library/Python/3.9/lib/python/site-packages (from torch==2.7.0->torchvision) (3.18.0)\n",
      "Requirement already satisfied: jinja2 in /Users/kevinirungu/Library/Python/3.9/lib/python/site-packages (from torch==2.7.0->torchvision) (3.1.6)\n",
      "Requirement already satisfied: fsspec in /Users/kevinirungu/Library/Python/3.9/lib/python/site-packages (from torch==2.7.0->torchvision) (2025.3.2)\n",
      "Requirement already satisfied: typing-extensions>=4.10.0 in /Users/kevinirungu/Library/Python/3.9/lib/python/site-packages (from torch==2.7.0->torchvision) (4.12.2)\n",
      "Requirement already satisfied: sympy>=1.13.3 in /Users/kevinirungu/Library/Python/3.9/lib/python/site-packages (from torch==2.7.0->torchvision) (1.14.0)\n",
      "Requirement already satisfied: networkx in /Users/kevinirungu/Library/Python/3.9/lib/python/site-packages (from torch==2.7.0->torchvision) (3.2.1)\n",
      "Requirement already satisfied: mpmath<1.4,>=1.1.0 in /Users/kevinirungu/Library/Python/3.9/lib/python/site-packages (from sympy>=1.13.3->torch==2.7.0->torchvision) (1.3.0)\n",
      "Requirement already satisfied: MarkupSafe>=2.0 in /Users/kevinirungu/Library/Python/3.9/lib/python/site-packages (from jinja2->torch==2.7.0->torchvision) (3.0.2)\n",
      "Installing collected packages: torchvision\n",
      "Successfully installed torchvision-0.22.0\n",
      "\u001b[33mWARNING: You are using pip version 21.2.4; however, version 25.1.1 is available.\n",
      "You should consider upgrading via the '/Library/Developer/CommandLineTools/usr/bin/python3 -m pip install --upgrade pip' command.\u001b[0m\n",
      "Note: you may need to restart the kernel to use updated packages.\n"
     ]
    }
   ],
   "source": [
    "# 📦 Step 0: Imports\n",
    "import os\n",
    "import pandas as pd\n",
    "import matplotlib.pyplot as plt\n",
    "# Install OpenCV if not already installed\n",
    "%pip install opencv-python\n",
    "# Install PyTorch if not already installed\n",
    "%pip install torch\n",
    "# Install torchvision if not already installed\n",
    "%pip install torchvision\n",
    "\n",
    "import cv2\n",
    "import numpy as np\n",
    "import torch\n",
    "import torch.nn as nn\n",
    "import torch.optim as optim\n",
    "from torch.utils.data import Dataset, DataLoader\n",
    "from torchvision import transforms"
   ]
  },
  {
   "cell_type": "markdown",
   "id": "aec4ee32",
   "metadata": {},
   "source": [
    "# 🎮 Step 0: Data Collection\n",
    "This section allows the robot car to be driven using a gamepad. During this time, images are recorded along with throttle and steering inputs."
   ]
  },
  {
   "cell_type": "code",
   "execution_count": null,
   "id": "f1acd914",
   "metadata": {},
   "outputs": [
    {
     "name": "stdout",
     "output_type": "stream",
     "text": [
      "Defaulting to user installation because normal site-packages is not writeable\n",
      "Collecting pygame\n",
      "Collecting pygame\n",
      "  Downloading pygame-2.6.1-cp39-cp39-macosx_11_0_arm64.whl (12.4 MB)\n",
      "\u001b[K     |                                | 30 kB 698 kB/s eta 0:00:18  Downloading pygame-2.6.1-cp39-cp39-macosx_11_0_arm64.whl (12.4 MB)\n",
      "\u001b[K     |████████████████████████████████| 12.4 MB 652 kB/s eta 0:00:01\n",
      "\u001b[K     |████████████████████████████████| 12.4 MB 652 kB/s eta 0:00:01\n",
      "\u001b[?25hInstalling collected packages: pygame\n",
      "Installing collected packages: pygame\n",
      "Successfully installed pygame-2.6.1\n",
      "Successfully installed pygame-2.6.1\n",
      "\u001b[33mWARNING: You are using pip version 21.2.4; however, version 25.1.1 is available.\n",
      "You should consider upgrading via the '/Library/Developer/CommandLineTools/usr/bin/python3 -m pip install --upgrade pip' command.\u001b[0m\n",
      "\u001b[33mWARNING: You are using pip version 21.2.4; however, version 25.1.1 is available.\n",
      "You should consider upgrading via the '/Library/Developer/CommandLineTools/usr/bin/python3 -m pip install --upgrade pip' command.\u001b[0m\n",
      "Note: you may need to restart the kernel to use updated packages.\n",
      "Note: you may need to restart the kernel to use updated packages.\n",
      "pygame 2.6.1 (SDL 2.28.4, Python 3.9.6)\n",
      "Hello from the pygame community. https://www.pygame.org/contribute.html\n",
      "pygame 2.6.1 (SDL 2.28.4, Python 3.9.6)\n",
      "Hello from the pygame community. https://www.pygame.org/contribute.html\n"
     ]
    },
    {
     "ename": "Exception",
     "evalue": "No joystick connected!",
     "output_type": "error",
     "traceback": [
      "\u001b[0;31m---------------------------------------------------------------------------\u001b[0m",
      "\u001b[0;31mException\u001b[0m                                 Traceback (most recent call last)",
      "Cell \u001b[0;32mIn[44], line 12\u001b[0m\n\u001b[1;32m     10\u001b[0m \u001b[38;5;66;03m# Ensure a joystick is connected\u001b[39;00m\n\u001b[1;32m     11\u001b[0m \u001b[38;5;28;01mif\u001b[39;00m pygame\u001b[38;5;241m.\u001b[39mjoystick\u001b[38;5;241m.\u001b[39mget_count() \u001b[38;5;241m==\u001b[39m \u001b[38;5;241m0\u001b[39m:\n\u001b[0;32m---> 12\u001b[0m     \u001b[38;5;28;01mraise\u001b[39;00m \u001b[38;5;167;01mException\u001b[39;00m(\u001b[38;5;124m'\u001b[39m\u001b[38;5;124mNo joystick connected!\u001b[39m\u001b[38;5;124m'\u001b[39m)\n\u001b[1;32m     14\u001b[0m joystick \u001b[38;5;241m=\u001b[39m pygame\u001b[38;5;241m.\u001b[39mjoystick\u001b[38;5;241m.\u001b[39mJoystick(\u001b[38;5;241m0\u001b[39m)\n\u001b[1;32m     15\u001b[0m joystick\u001b[38;5;241m.\u001b[39minit()\n",
      "\u001b[0;31mException\u001b[0m: No joystick connected!"
     ]
    }
   ],
   "source": [
    "# 🎮 Step 0: Data Collection\n",
    "%pip install pygame\n",
    "import pygame\n",
    "from datetime import datetime\n",
    "\n",
    "# Initialize pygame for gamepad control\n",
    "pygame.init()\n",
    "pygame.joystick.init()\n",
    "\n",
    "# Ensure a joystick is connected\n",
    "if pygame.joystick.get_count() == 0:\n",
    "    print('No joystick connected! Please connect a joystick and try again.')\n",
    "    pygame.quit()\n",
    "    exit()\n",
    "\n",
    "joystick = pygame.joystick.Joystick(0)\n",
    "joystick.init()\n",
    "\n",
    "# Create a directory for images\n",
    "os.makedirs(DATA_DIR, exist_ok=True)\n",
    "\n",
    "# Start data collection\n",
    "running = True\n",
    "data = []\n",
    "print('Press START button to begin recording and STOP button to end.')\n",
    "\n",
    "while running:\n",
    "    for event in pygame.event.get():\n",
    "        if event.type == pygame.JOYBUTTONDOWN:\n",
    "            if joystick.get_button(7):  # START button\n",
    "                print('Recording started...')\n",
    "                recording = True\n",
    "            elif joystick.get_button(6):  # BACK/STOP button\n",
    "                print('Recording stopped.')\n",
    "                running = False\n",
    "\n",
    "    if recording:\n",
    "        # Capture joystick inputs\n",
    "        steering = joystick.get_axis(0)  # Left stick horizontal axis\n",
    "        throttle = joystick.get_axis(1)  # Left stick vertical axis\n",
    "\n",
    "        # Capture image from camera\n",
    "        ret, frame = cv2.VideoCapture(0).read()\n",
    "        if ret:\n",
    "            timestamp = datetime.now().strftime('%Y%m%d_%H%M%S%f')\n",
    "            img_filename = f'{timestamp}.jpg'\n",
    "            img_path = os.path.join(DATA_DIR, img_filename)\n",
    "            cv2.imwrite(img_path, frame)\n",
    "\n",
    "            # Append data\n",
    "            data.append({'filename': img_filename, 'steering': steering, 'throttle': throttle})\n",
    "\n",
    "# Save data to CSV\n",
    "df = pd.DataFrame(data)\n",
    "df.to_csv(CSV_PATH, index=False)\n",
    "print(f'Data saved to {CSV_PATH}')"
   ]
  },
  {
   "cell_type": "code",
   "execution_count": 8,
   "id": "c6316b43",
   "metadata": {},
   "outputs": [],
   "source": [
    "# ⚙️ Step 1: Settings\n",
    "import os  # Ensure os is imported\n",
    "DATA_DIR = \"data_logs\"\n",
    "CSV_PATH = os.path.join(DATA_DIR, \"log.csv\")\n",
    "MODEL_PATH = \"drive_model.pth\"\n",
    "IMG_WIDTH, IMG_HEIGHT = 160, 120\n",
    "EPOCHS = 10\n",
    "BATCH_SIZE = 32"
   ]
  },
  {
   "cell_type": "code",
   "execution_count": 12,
   "id": "a72fb069",
   "metadata": {},
   "outputs": [
    {
     "data": {
      "text/html": [
       "<div>\n",
       "<style scoped>\n",
       "    .dataframe tbody tr th:only-of-type {\n",
       "        vertical-align: middle;\n",
       "    }\n",
       "\n",
       "    .dataframe tbody tr th {\n",
       "        vertical-align: top;\n",
       "    }\n",
       "\n",
       "    .dataframe thead th {\n",
       "        text-align: right;\n",
       "    }\n",
       "</style>\n",
       "<table border=\"1\" class=\"dataframe\">\n",
       "  <thead>\n",
       "    <tr style=\"text-align: right;\">\n",
       "      <th></th>\n",
       "      <th>filename</th>\n",
       "      <th>steering</th>\n",
       "      <th>throttle</th>\n",
       "    </tr>\n",
       "  </thead>\n",
       "  <tbody>\n",
       "    <tr>\n",
       "      <th>0</th>\n",
       "      <td>img1.jpg</td>\n",
       "      <td>0.1</td>\n",
       "      <td>0.5</td>\n",
       "    </tr>\n",
       "    <tr>\n",
       "      <th>1</th>\n",
       "      <td>img2.jpg</td>\n",
       "      <td>-0.2</td>\n",
       "      <td>0.6</td>\n",
       "    </tr>\n",
       "    <tr>\n",
       "      <th>2</th>\n",
       "      <td>img3.jpg</td>\n",
       "      <td>0.0</td>\n",
       "      <td>0.4</td>\n",
       "    </tr>\n",
       "  </tbody>\n",
       "</table>\n",
       "</div>"
      ],
      "text/plain": [
       "   filename  steering  throttle\n",
       "0  img1.jpg       0.1       0.5\n",
       "1  img2.jpg      -0.2       0.6\n",
       "2  img3.jpg       0.0       0.4"
      ]
     },
     "execution_count": 12,
     "metadata": {},
     "output_type": "execute_result"
    }
   ],
   "source": [
    "# 🗃️ Step 2: Load & Preview Data\n",
    "# Ensure the CSV file exists\n",
    "if not os.path.exists(CSV_PATH):\n",
    "\tprint(f'File not found: {CSV_PATH}. Creating a sample CSV file...')\n",
    "\tos.makedirs(DATA_DIR, exist_ok=True)\n",
    "\tsample_data = {\n",
    "\t\t'filename': ['img1.jpg', 'img2.jpg', 'img3.jpg'],\n",
    "\t\t'steering': [0.1, -0.2, 0.0],\n",
    "\t\t'throttle': [0.5, 0.6, 0.4]\n",
    "\t}\n",
    "\tsample_df = pd.DataFrame(sample_data)\n",
    "\tsample_df.to_csv(CSV_PATH, index=False)\n",
    "\tprint(f'Sample CSV created at {CSV_PATH}')\n",
    "\n",
    "# Load the CSV file\n",
    "df = pd.read_csv(CSV_PATH)\n",
    "df.head()"
   ]
  },
  {
   "cell_type": "code",
   "execution_count": 10,
   "id": "c0b6579f",
   "metadata": {},
   "outputs": [
    {
     "name": "stdout",
     "output_type": "stream",
     "text": [
      "File not found: data_logs/log.csv. Creating a sample CSV file...\n",
      "Sample CSV created at data_logs/log.csv\n"
     ]
    }
   ],
   "source": [
    "# 🛠️ Step 2.1: Handle Missing CSV\n",
    "import os\n",
    "import pandas as pd\n",
    "# Check if the CSV file exists\n",
    "if not os.path.exists(CSV_PATH):\n",
    "    print(f'File not found: {CSV_PATH}. Creating a sample CSV file...')\n",
    "    os.makedirs(DATA_DIR, exist_ok=True)\n",
    "    sample_data = {\n",
    "        'filename': ['img1.jpg', 'img2.jpg', 'img3.jpg'],\n",
    "        'steering': [0.1, -0.2, 0.0],\n",
    "        'throttle': [0.5, 0.6, 0.4]\n",
    "    }\n",
    "    sample_df = pd.DataFrame(sample_data)\n",
    "    sample_df.to_csv(CSV_PATH, index=False)\n",
    "    print(f'Sample CSV created at {CSV_PATH}')"
   ]
  },
  {
   "cell_type": "code",
   "execution_count": 45,
   "id": "01ab35e5",
   "metadata": {},
   "outputs": [
    {
     "name": "stdout",
     "output_type": "stream",
     "text": [
      "Image not found: data_logs/img1.jpg\n",
      "Skipping index 10 as it is out-of-bounds.\n",
      "Skipping index 20 as it is out-of-bounds.\n",
      "Skipping index 30 as it is out-of-bounds.\n",
      "Skipping index 40 as it is out-of-bounds.\n",
      "Skipping index 50 as it is out-of-bounds.\n"
     ]
    },
    {
     "data": {
      "image/png": "[encoded data removed]",
      "text/plain": [
       "<Figure size 1200x400 with 1 Axes>"
      ]
     },
     "metadata": {},
     "output_type": "display_data"
    }
   ],
   "source": [
    "# 👁️ Step 3: Visualize driving scenarios\n",
    "import matplotlib.pyplot as plt  # Ensure plt is imported\n",
    "import cv2  # Ensure cv2 is imported\n",
    "import numpy as np  # Import numpy as np\n",
    "\n",
    "plt.figure(figsize=(12, 4))\n",
    "for i in range(6):\n",
    "    row_index = i * 10\n",
    "    if row_index >= len(df):\n",
    "        print(f\"Skipping index {row_index} as it is out-of-bounds.\")\n",
    "        continue\n",
    "    row = df.iloc[row_index]\n",
    "    img_path = os.path.join(DATA_DIR, row[\"filename\"])\n",
    "    if not os.path.exists(img_path):\n",
    "        print(f\"Image not found: {img_path}\")\n",
    "        img = np.zeros((IMG_HEIGHT, IMG_WIDTH, 3), dtype=np.uint8)  # Placeholder black image\n",
    "    else:\n",
    "        img = cv2.imread(img_path)\n",
    "        img = cv2.cvtColor(img, cv2.COLOR_BGR2RGB)\n",
    "    plt.subplot(1, 6, i + 1)\n",
    "    plt.imshow(img)\n",
    "    plt.title(f\"S:{row['steering']:.2f}\\nT:{row['throttle']:.2f}\")\n",
    "    plt.axis(\"off\")\n",
    "plt.tight_layout()\n",
    "plt.show()"
   ]
  },
  {
   "cell_type": "code",
   "execution_count": 25,
   "id": "511a0ec5",
   "metadata": {},
   "outputs": [
    {
     "name": "stdout",
     "output_type": "stream",
     "text": [
      "Image not found: data_logs/img1.jpg. Skipping.\n",
      "Skipping index 10 as it is out-of-bounds.\n",
      "Skipping index 20 as it is out-of-bounds.\n",
      "Skipping index 30 as it is out-of-bounds.\n",
      "Skipping index 40 as it is out-of-bounds.\n",
      "Skipping index 50 as it is out-of-bounds.\n"
     ]
    },
    {
     "data": {
      "text/plain": [
       "<Figure size 1200x400 with 0 Axes>"
      ]
     },
     "metadata": {},
     "output_type": "display_data"
    }
   ],
   "source": [
    "# 🛠️ Step 3.1: Handle Out-of-Bounds Indexing\n",
    "plt.figure(figsize=(12, 4))\n",
    "num_rows = len(df)\n",
    "for i in range(6):\n",
    "    row_index = i * 10\n",
    "    if row_index >= num_rows:\n",
    "        print(f\"Skipping index {row_index} as it is out-of-bounds.\")\n",
    "        continue\n",
    "    row = df.iloc[row_index]\n",
    "    img_path = os.path.join(DATA_DIR, row[\"filename\"])\n",
    "    if not os.path.exists(img_path):\n",
    "        print(f\"Image not found: {img_path}. Skipping.\")\n",
    "        continue\n",
    "    img = cv2.imread(img_path)\n",
    "    img = cv2.cvtColor(img, cv2.COLOR_BGR2RGB)\n",
    "    plt.subplot(1, 6, i + 1)\n",
    "    plt.imshow(img)\n",
    "    plt.title(f\"S:{row['steering']:.2f}\\nT:{row['throttle']:.2f}\")\n",
    "    plt.axis(\"off\")\n",
    "plt.tight_layout()\n",
    "plt.show()"
   ]
  },
  {
   "cell_type": "code",
   "execution_count": 27,
   "id": "b1f26721",
   "metadata": {},
   "outputs": [],
   "source": [
    "# 📦 Step 4: Dataset class\n",
    "from torch.utils.data import Dataset  # Import Dataset\n",
    "\n",
    "class DriveDataset(Dataset):\n",
    "    def __init__(self, df, root, transform=None):\n",
    "        self.df = df\n",
    "        self.root = root\n",
    "        self.transform = transform\n",
    "\n",
    "    def __len__(self):\n",
    "        return len(self.df)\n",
    "\n",
    "    def __getitem__(self, idx):\n",
    "        row = self.df.iloc[idx]\n",
    "        img_path = os.path.join(self.root, row[\"filename\"])\n",
    "        image = cv2.imread(img_path)\n",
    "        image = cv2.cvtColor(image, cv2.COLOR_BGR2RGB)\n",
    "        image = cv2.resize(image, (IMG_WIDTH, IMG_HEIGHT))\n",
    "        if self.transform:\n",
    "            image = self.transform(image)\n",
    "        label = torch.tensor([row[\"steering\"], row[\"throttle\"]], dtype=torch.float32)\n",
    "        return image, label"
   ]
  },
  {
   "cell_type": "code",
   "execution_count": 30,
   "id": "a707308e",
   "metadata": {},
   "outputs": [],
   "source": [
    "# 📐 Step 5: Transforms + DataLoader\n",
    "from torchvision import transforms  # Import transforms\n",
    "from torch.utils.data import DataLoader  # Import DataLoader\n",
    "\n",
    "transform = transforms.Compose([\n",
    "    transforms.ToTensor(),\n",
    "    transforms.Normalize(mean=[0.5]*3, std=[0.5]*3)\n",
    "])\n",
    "dataset = DriveDataset(df, DATA_DIR, transform=transform)\n",
    "loader = DataLoader(dataset, batch_size=BATCH_SIZE, shuffle=True)"
   ]
  },
  {
   "cell_type": "code",
   "execution_count": 32,
   "id": "de67aead",
   "metadata": {},
   "outputs": [],
   "source": [
    "# 🧠 Step 6: Define DriveNet\n",
    "import torch.nn as nn  # Import nn module\n",
    "\n",
    "class DriveNet(nn.Module):\n",
    "    def __init__(self):\n",
    "        super().__init__()\n",
    "        self.net = nn.Sequential(\n",
    "            nn.Conv2d(3, 16, 5, stride=2), nn.ReLU(),\n",
    "            nn.Conv2d(16, 32, 5, stride=2), nn.ReLU(),\n",
    "            nn.Conv2d(32, 64, 3, stride=2), nn.ReLU(),\n",
    "            nn.Flatten(),\n",
    "            nn.Linear(64 * 13 * 18, 100), nn.ReLU(),\n",
    "            nn.Linear(100, 2)  # [steering, throttle]\n",
    "        )\n",
    "\n",
    "    def forward(self, x):\n",
    "        return self.net(x)"
   ]
  },
  {
   "cell_type": "code",
   "execution_count": 47,
   "id": "d8702aa9",
   "metadata": {},
   "outputs": [
    {
     "name": "stderr",
     "output_type": "stream",
     "text": [
      "[ WARN:0@1584.646] global loadsave.cpp:268 findDecoder imread_('data_logs/img3.jpg'): can't open/read file: check file path/integrity\n"
     ]
    },
    {
     "ename": "error",
     "evalue": "OpenCV(4.11.0) /Users/xperience/GHA-Actions-OpenCV/_work/opencv-python/opencv-python/opencv/modules/imgproc/src/color.cpp:199: error: (-215:Assertion failed) !_src.empty() in function 'cvtColor'\n",
     "output_type": "error",
     "traceback": [
      "\u001b[0;31m---------------------------------------------------------------------------\u001b[0m",
      "\u001b[0;31merror\u001b[0m                                     Traceback (most recent call last)",
      "Cell \u001b[0;32mIn[47], line 10\u001b[0m\n\u001b[1;32m      8\u001b[0m \u001b[38;5;28;01mfor\u001b[39;00m epoch \u001b[38;5;129;01min\u001b[39;00m \u001b[38;5;28mrange\u001b[39m(EPOCHS):\n\u001b[1;32m      9\u001b[0m     running_loss \u001b[38;5;241m=\u001b[39m \u001b[38;5;241m0\u001b[39m\n\u001b[0;32m---> 10\u001b[0m     \u001b[38;5;28;01mfor\u001b[39;00m images, labels \u001b[38;5;129;01min\u001b[39;00m loader:\n\u001b[1;32m     11\u001b[0m         valid_images \u001b[38;5;241m=\u001b[39m []\n\u001b[1;32m     12\u001b[0m         valid_labels \u001b[38;5;241m=\u001b[39m []\n",
      "File \u001b[0;32m~/Library/Python/3.9/lib/python/site-packages/torch/utils/data/dataloader.py:733\u001b[0m, in \u001b[0;36m_BaseDataLoaderIter.__next__\u001b[0;34m(self)\u001b[0m\n\u001b[1;32m    730\u001b[0m \u001b[38;5;28;01mif\u001b[39;00m \u001b[38;5;28mself\u001b[39m\u001b[38;5;241m.\u001b[39m_sampler_iter \u001b[38;5;129;01mis\u001b[39;00m \u001b[38;5;28;01mNone\u001b[39;00m:\n\u001b[1;32m    731\u001b[0m     \u001b[38;5;66;03m# TODO(https://github.com/pytorch/pytorch/issues/76750)\u001b[39;00m\n\u001b[1;32m    732\u001b[0m     \u001b[38;5;28mself\u001b[39m\u001b[38;5;241m.\u001b[39m_reset()  \u001b[38;5;66;03m# type: ignore[call-arg]\u001b[39;00m\n\u001b[0;32m--> 733\u001b[0m data \u001b[38;5;241m=\u001b[39m \u001b[38;5;28;43mself\u001b[39;49m\u001b[38;5;241;43m.\u001b[39;49m\u001b[43m_next_data\u001b[49m\u001b[43m(\u001b[49m\u001b[43m)\u001b[49m\n\u001b[1;32m    734\u001b[0m \u001b[38;5;28mself\u001b[39m\u001b[38;5;241m.\u001b[39m_num_yielded \u001b[38;5;241m+\u001b[39m\u001b[38;5;241m=\u001b[39m \u001b[38;5;241m1\u001b[39m\n\u001b[1;32m    735\u001b[0m \u001b[38;5;28;01mif\u001b[39;00m (\n\u001b[1;32m    736\u001b[0m     \u001b[38;5;28mself\u001b[39m\u001b[38;5;241m.\u001b[39m_dataset_kind \u001b[38;5;241m==\u001b[39m _DatasetKind\u001b[38;5;241m.\u001b[39mIterable\n\u001b[1;32m    737\u001b[0m     \u001b[38;5;129;01mand\u001b[39;00m \u001b[38;5;28mself\u001b[39m\u001b[38;5;241m.\u001b[39m_IterableDataset_len_called \u001b[38;5;129;01mis\u001b[39;00m \u001b[38;5;129;01mnot\u001b[39;00m \u001b[38;5;28;01mNone\u001b[39;00m\n\u001b[1;32m    738\u001b[0m     \u001b[38;5;129;01mand\u001b[39;00m \u001b[38;5;28mself\u001b[39m\u001b[38;5;241m.\u001b[39m_num_yielded \u001b[38;5;241m>\u001b[39m \u001b[38;5;28mself\u001b[39m\u001b[38;5;241m.\u001b[39m_IterableDataset_len_called\n\u001b[1;32m    739\u001b[0m ):\n",
      "File \u001b[0;32m~/Library/Python/3.9/lib/python/site-packages/torch/utils/data/dataloader.py:789\u001b[0m, in \u001b[0;36m_SingleProcessDataLoaderIter._next_data\u001b[0;34m(self)\u001b[0m\n\u001b[1;32m    787\u001b[0m \u001b[38;5;28;01mdef\u001b[39;00m \u001b[38;5;21m_next_data\u001b[39m(\u001b[38;5;28mself\u001b[39m):\n\u001b[1;32m    788\u001b[0m     index \u001b[38;5;241m=\u001b[39m \u001b[38;5;28mself\u001b[39m\u001b[38;5;241m.\u001b[39m_next_index()  \u001b[38;5;66;03m# may raise StopIteration\u001b[39;00m\n\u001b[0;32m--> 789\u001b[0m     data \u001b[38;5;241m=\u001b[39m \u001b[38;5;28;43mself\u001b[39;49m\u001b[38;5;241;43m.\u001b[39;49m\u001b[43m_dataset_fetcher\u001b[49m\u001b[38;5;241;43m.\u001b[39;49m\u001b[43mfetch\u001b[49m\u001b[43m(\u001b[49m\u001b[43mindex\u001b[49m\u001b[43m)\u001b[49m  \u001b[38;5;66;03m# may raise StopIteration\u001b[39;00m\n\u001b[1;32m    790\u001b[0m     \u001b[38;5;28;01mif\u001b[39;00m \u001b[38;5;28mself\u001b[39m\u001b[38;5;241m.\u001b[39m_pin_memory:\n\u001b[1;32m    791\u001b[0m         data \u001b[38;5;241m=\u001b[39m _utils\u001b[38;5;241m.\u001b[39mpin_memory\u001b[38;5;241m.\u001b[39mpin_memory(data, \u001b[38;5;28mself\u001b[39m\u001b[38;5;241m.\u001b[39m_pin_memory_device)\n",
      "File \u001b[0;32m~/Library/Python/3.9/lib/python/site-packages/torch/utils/data/_utils/fetch.py:52\u001b[0m, in \u001b[0;36m_MapDatasetFetcher.fetch\u001b[0;34m(self, possibly_batched_index)\u001b[0m\n\u001b[1;32m     50\u001b[0m         data \u001b[38;5;241m=\u001b[39m \u001b[38;5;28mself\u001b[39m\u001b[38;5;241m.\u001b[39mdataset\u001b[38;5;241m.\u001b[39m__getitems__(possibly_batched_index)\n\u001b[1;32m     51\u001b[0m     \u001b[38;5;28;01melse\u001b[39;00m:\n\u001b[0;32m---> 52\u001b[0m         data \u001b[38;5;241m=\u001b[39m [\u001b[38;5;28mself\u001b[39m\u001b[38;5;241m.\u001b[39mdataset[idx] \u001b[38;5;28;01mfor\u001b[39;00m idx \u001b[38;5;129;01min\u001b[39;00m possibly_batched_index]\n\u001b[1;32m     53\u001b[0m \u001b[38;5;28;01melse\u001b[39;00m:\n\u001b[1;32m     54\u001b[0m     data \u001b[38;5;241m=\u001b[39m \u001b[38;5;28mself\u001b[39m\u001b[38;5;241m.\u001b[39mdataset[possibly_batched_index]\n",
      "File \u001b[0;32m~/Library/Python/3.9/lib/python/site-packages/torch/utils/data/_utils/fetch.py:52\u001b[0m, in \u001b[0;36m<listcomp>\u001b[0;34m(.0)\u001b[0m\n\u001b[1;32m     50\u001b[0m         data \u001b[38;5;241m=\u001b[39m \u001b[38;5;28mself\u001b[39m\u001b[38;5;241m.\u001b[39mdataset\u001b[38;5;241m.\u001b[39m__getitems__(possibly_batched_index)\n\u001b[1;32m     51\u001b[0m     \u001b[38;5;28;01melse\u001b[39;00m:\n\u001b[0;32m---> 52\u001b[0m         data \u001b[38;5;241m=\u001b[39m [\u001b[38;5;28;43mself\u001b[39;49m\u001b[38;5;241;43m.\u001b[39;49m\u001b[43mdataset\u001b[49m\u001b[43m[\u001b[49m\u001b[43midx\u001b[49m\u001b[43m]\u001b[49m \u001b[38;5;28;01mfor\u001b[39;00m idx \u001b[38;5;129;01min\u001b[39;00m possibly_batched_index]\n\u001b[1;32m     53\u001b[0m \u001b[38;5;28;01melse\u001b[39;00m:\n\u001b[1;32m     54\u001b[0m     data \u001b[38;5;241m=\u001b[39m \u001b[38;5;28mself\u001b[39m\u001b[38;5;241m.\u001b[39mdataset[possibly_batched_index]\n",
      "Cell \u001b[0;32mIn[27], line 17\u001b[0m, in \u001b[0;36mDriveDataset.__getitem__\u001b[0;34m(self, idx)\u001b[0m\n\u001b[1;32m     15\u001b[0m img_path \u001b[38;5;241m=\u001b[39m os\u001b[38;5;241m.\u001b[39mpath\u001b[38;5;241m.\u001b[39mjoin(\u001b[38;5;28mself\u001b[39m\u001b[38;5;241m.\u001b[39mroot, row[\u001b[38;5;124m\"\u001b[39m\u001b[38;5;124mfilename\u001b[39m\u001b[38;5;124m\"\u001b[39m])\n\u001b[1;32m     16\u001b[0m image \u001b[38;5;241m=\u001b[39m cv2\u001b[38;5;241m.\u001b[39mimread(img_path)\n\u001b[0;32m---> 17\u001b[0m image \u001b[38;5;241m=\u001b[39m \u001b[43mcv2\u001b[49m\u001b[38;5;241;43m.\u001b[39;49m\u001b[43mcvtColor\u001b[49m\u001b[43m(\u001b[49m\u001b[43mimage\u001b[49m\u001b[43m,\u001b[49m\u001b[43m \u001b[49m\u001b[43mcv2\u001b[49m\u001b[38;5;241;43m.\u001b[39;49m\u001b[43mCOLOR_BGR2RGB\u001b[49m\u001b[43m)\u001b[49m\n\u001b[1;32m     18\u001b[0m image \u001b[38;5;241m=\u001b[39m cv2\u001b[38;5;241m.\u001b[39mresize(image, (IMG_WIDTH, IMG_HEIGHT))\n\u001b[1;32m     19\u001b[0m \u001b[38;5;28;01mif\u001b[39;00m \u001b[38;5;28mself\u001b[39m\u001b[38;5;241m.\u001b[39mtransform:\n",
      "\u001b[0;31merror\u001b[0m: OpenCV(4.11.0) /Users/xperience/GHA-Actions-OpenCV/_work/opencv-python/opencv-python/opencv/modules/imgproc/src/color.cpp:199: error: (-215:Assertion failed) !_src.empty() in function 'cvtColor'\n"
     ]
    }
   ],
   "source": [
    "# 🚀 Step 7: Train Model\n",
    "device = torch.device(\"cuda\" if torch.cuda.is_available() else \"cpu\")\n",
    "model = DriveNet().to(device)\n",
    "optimizer = torch.optim.Adam(model.parameters(), lr=0.001)  # Use torch.optim explicitly\n",
    "criterion = nn.MSELoss()\n",
    "\n",
    "losses = []\n",
    "for epoch in range(EPOCHS):\n",
    "    running_loss = 0\n",
    "    for images, labels in loader:\n",
    "        valid_images = []\n",
    "        valid_labels = []\n",
    "        for img, lbl in zip(images, labels):\n",
    "            if img is None or not isinstance(img, torch.Tensor) or img.numel() == 0:  # Check for empty or invalid image\n",
    "                print(\"Skipping invalid image\")\n",
    "                continue\n",
    "            img_path = os.path.join(DATA_DIR, lbl[\"filename\"])  # Ensure the image path is correct\n",
    "            if not os.path.exists(img_path):\n",
    "                print(f\"Image not found: {img_path}. Skipping.\")\n",
    "                continue\n",
    "            img = cv2.imread(img_path)\n",
    "            if img is None or img.size == 0:  # Check if the image was successfully loaded\n",
    "                print(f\"Failed to load image: {img_path}. Skipping.\")\n",
    "                continue\n",
    "            valid_images.append(img)\n",
    "            valid_labels.append(lbl)\n",
    "\n",
    "        if not valid_images:\n",
    "            print(\"No valid images in this batch. Skipping.\")\n",
    "            continue\n",
    "\n",
    "        valid_images = torch.stack(valid_images).to(device)\n",
    "        valid_labels = torch.stack(valid_labels).to(device)\n",
    "\n",
    "        optimizer.zero_grad()\n",
    "        outputs = model(valid_images)\n",
    "        loss = criterion(outputs, valid_labels)\n",
    "        loss.backward()\n",
    "        optimizer.step()\n",
    "        running_loss += loss.item()\n",
    "    avg_loss = running_loss / len(loader)\n",
    "    losses.append(avg_loss)\n",
    "    print(f\"Epoch {epoch+1}/{EPOCHS}, Loss: {avg_loss:.4f}\")"
   ]
  },
  {
   "cell_type": "code",
   "execution_count": 38,
   "id": "b51f500b",
   "metadata": {},
   "outputs": [
    {
     "data": {
      "image/png": "[encoded data removed]",
      "text/plain": [
       "<Figure size 640x480 with 1 Axes>"
      ]
     },
     "metadata": {},
     "output_type": "display_data"
    }
   ],
   "source": [
    "# 📊 Step 8: Plot Training Loss\n",
    "plt.plot(losses, marker='o')\n",
    "plt.title(\"Training Loss per Epoch\")\n",
    "plt.xlabel(\"Epoch\")\n",
    "plt.ylabel(\"Loss\")\n",
    "plt.grid(True)\n",
    "plt.show()"
   ]
  },
  {
   "cell_type": "code",
   "execution_count": 48,
   "id": "0f856c77",
   "metadata": {},
   "outputs": [
    {
     "name": "stdout",
     "output_type": "stream",
     "text": [
      "Index 50 is out-of-bounds for the dataframe with 3 rows.\n"
     ]
    }
   ],
   "source": [
    "# 🔍 Step 9: Test Prediction\n",
    "model.eval()\n",
    "if 50 < len(df):\n",
    "    test_img_path = os.path.join(DATA_DIR, df.iloc[50][\"filename\"])\n",
    "    img = cv2.imread(test_img_path)\n",
    "    img_rgb = cv2.cvtColor(img, cv2.COLOR_BGR2RGB)\n",
    "    img_resized = cv2.resize(img_rgb, (IMG_WIDTH, IMG_HEIGHT))\n",
    "    input_tensor = transform(img_resized).unsqueeze(0).to(device)\n",
    "\n",
    "    with torch.no_grad():\n",
    "        pred = model(input_tensor)[0].cpu().numpy()\n",
    "\n",
    "    plt.imshow(img_rgb)\n",
    "    plt.title(f\"Predicted - Steering: {pred[0]:.2f}, Throttle: {pred[1]:.2f}\")\n",
    "    plt.axis(\"off\")\n",
    "    plt.show()\n",
    "else:\n",
    "    print(f\"Index 50 is out-of-bounds for the dataframe with {len(df)} rows.\")"
   ]
  },
  {
   "cell_type": "code",
   "execution_count": 49,
   "id": "e707bc24",
   "metadata": {},
   "outputs": [
    {
     "name": "stdout",
     "output_type": "stream",
     "text": [
      "✅ Model saved as: drive_model.pth\n"
     ]
    }
   ],
   "source": [
    "# 💾 Step 10: Save Model\n",
    "torch.save(model.state_dict(), MODEL_PATH)\n",
    "print(f\"✅ Model saved as: {MODEL_PATH}\")"
   ]
  }
 ],
 "metadata": {
  "kernelspec": {
   "display_name": "Python 3",
   "language": "python",
   "name": "python3"
  },
  "language_info": {
   "codemirror_mode": {
    "name": "ipython",
    "version": 3
   },
   "file_extension": ".py",
   "mimetype": "text/x-python",
   "name": "python",
   "nbconvert_exporter": "python",
   "pygments_lexer": "ipython3",
   "version": "3.9.6"
  }
 },
 "nbformat": 4,
 "nbformat_minor": 5
}
